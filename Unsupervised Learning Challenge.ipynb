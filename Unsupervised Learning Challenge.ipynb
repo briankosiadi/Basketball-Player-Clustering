{
 "cells": [
  {
   "cell_type": "code",
   "execution_count": 3,
   "metadata": {},
   "outputs": [],
   "source": [
    "# Imports here\n",
    "%matplotlib inline\n",
    "\n",
    "import matplotlib.pyplot as plt\n",
    "import numpy as np\n",
    "import pandas as pd\n",
    "import seaborn as sns\n",
    "sns.set()\n",
    "import warnings\n",
    "warnings.filterwarnings('ignore')\n",
    "from sklearn.preprocessing import StandardScaler\n",
    "from sklearn.decomposition import PCA\n",
    "from sklearn.cluster import KMeans"
   ]
  },
  {
   "cell_type": "code",
   "execution_count": 4,
   "metadata": {},
   "outputs": [],
   "source": [
    "pitches_df = pd.read_csv(r'C:\\Users\\Brian\\Desktop\\pitches.csv')\n",
    "atbat_df = pd.read_csv (r'C:\\Users\\Brian\\Desktop\\atbats.csv')"
   ]
  },
  {
   "cell_type": "code",
   "execution_count": 26,
   "metadata": {
    "scrolled": true
   },
   "outputs": [
    {
     "data": {
      "text/html": [
       "<div>\n",
       "<style scoped>\n",
       "    .dataframe tbody tr th:only-of-type {\n",
       "        vertical-align: middle;\n",
       "    }\n",
       "\n",
       "    .dataframe tbody tr th {\n",
       "        vertical-align: top;\n",
       "    }\n",
       "\n",
       "    .dataframe thead th {\n",
       "        text-align: right;\n",
       "    }\n",
       "</style>\n",
       "<table border=\"1\" class=\"dataframe\">\n",
       "  <thead>\n",
       "    <tr style=\"text-align: right;\">\n",
       "      <th></th>\n",
       "      <th>px</th>\n",
       "      <th>pz</th>\n",
       "      <th>start_speed</th>\n",
       "      <th>end_speed</th>\n",
       "      <th>spin_rate</th>\n",
       "      <th>spin_dir</th>\n",
       "      <th>break_angle</th>\n",
       "      <th>break_length</th>\n",
       "      <th>break_y</th>\n",
       "      <th>ax</th>\n",
       "      <th>...</th>\n",
       "      <th>batter_id</th>\n",
       "      <th>event</th>\n",
       "      <th>g_id</th>\n",
       "      <th>inning</th>\n",
       "      <th>o</th>\n",
       "      <th>p_score</th>\n",
       "      <th>p_throws</th>\n",
       "      <th>pitcher_id</th>\n",
       "      <th>stand</th>\n",
       "      <th>top</th>\n",
       "    </tr>\n",
       "  </thead>\n",
       "  <tbody>\n",
       "    <tr>\n",
       "      <th>0</th>\n",
       "      <td>0.416</td>\n",
       "      <td>2.963</td>\n",
       "      <td>92.9</td>\n",
       "      <td>84.1</td>\n",
       "      <td>2305.052</td>\n",
       "      <td>159.235</td>\n",
       "      <td>-25.0</td>\n",
       "      <td>3.2</td>\n",
       "      <td>23.7</td>\n",
       "      <td>7.665</td>\n",
       "      <td>...</td>\n",
       "      <td>572761</td>\n",
       "      <td>Groundout</td>\n",
       "      <td>201500001</td>\n",
       "      <td>1</td>\n",
       "      <td>1</td>\n",
       "      <td>0</td>\n",
       "      <td>L</td>\n",
       "      <td>452657</td>\n",
       "      <td>L</td>\n",
       "      <td>True</td>\n",
       "    </tr>\n",
       "    <tr>\n",
       "      <th>1</th>\n",
       "      <td>-0.191</td>\n",
       "      <td>2.347</td>\n",
       "      <td>92.8</td>\n",
       "      <td>84.1</td>\n",
       "      <td>2689.935</td>\n",
       "      <td>151.402</td>\n",
       "      <td>-40.7</td>\n",
       "      <td>3.4</td>\n",
       "      <td>23.7</td>\n",
       "      <td>12.043</td>\n",
       "      <td>...</td>\n",
       "      <td>518792</td>\n",
       "      <td>Double</td>\n",
       "      <td>201500001</td>\n",
       "      <td>1</td>\n",
       "      <td>1</td>\n",
       "      <td>0</td>\n",
       "      <td>L</td>\n",
       "      <td>452657</td>\n",
       "      <td>L</td>\n",
       "      <td>True</td>\n",
       "    </tr>\n",
       "    <tr>\n",
       "      <th>2</th>\n",
       "      <td>-0.518</td>\n",
       "      <td>3.284</td>\n",
       "      <td>94.1</td>\n",
       "      <td>85.2</td>\n",
       "      <td>2647.972</td>\n",
       "      <td>145.125</td>\n",
       "      <td>-43.7</td>\n",
       "      <td>3.7</td>\n",
       "      <td>23.7</td>\n",
       "      <td>14.368</td>\n",
       "      <td>...</td>\n",
       "      <td>407812</td>\n",
       "      <td>Single</td>\n",
       "      <td>201500001</td>\n",
       "      <td>1</td>\n",
       "      <td>1</td>\n",
       "      <td>0</td>\n",
       "      <td>L</td>\n",
       "      <td>452657</td>\n",
       "      <td>R</td>\n",
       "      <td>True</td>\n",
       "    </tr>\n",
       "    <tr>\n",
       "      <th>3</th>\n",
       "      <td>-0.641</td>\n",
       "      <td>1.221</td>\n",
       "      <td>91.0</td>\n",
       "      <td>84.0</td>\n",
       "      <td>1289.590</td>\n",
       "      <td>169.751</td>\n",
       "      <td>-1.3</td>\n",
       "      <td>5.0</td>\n",
       "      <td>23.8</td>\n",
       "      <td>2.104</td>\n",
       "      <td>...</td>\n",
       "      <td>425509</td>\n",
       "      <td>Strikeout</td>\n",
       "      <td>201500001</td>\n",
       "      <td>1</td>\n",
       "      <td>2</td>\n",
       "      <td>0</td>\n",
       "      <td>L</td>\n",
       "      <td>452657</td>\n",
       "      <td>R</td>\n",
       "      <td>True</td>\n",
       "    </tr>\n",
       "    <tr>\n",
       "      <th>4</th>\n",
       "      <td>-1.821</td>\n",
       "      <td>2.083</td>\n",
       "      <td>75.4</td>\n",
       "      <td>69.6</td>\n",
       "      <td>1374.569</td>\n",
       "      <td>280.671</td>\n",
       "      <td>18.4</td>\n",
       "      <td>12.0</td>\n",
       "      <td>23.8</td>\n",
       "      <td>-10.280</td>\n",
       "      <td>...</td>\n",
       "      <td>571431</td>\n",
       "      <td>Strikeout</td>\n",
       "      <td>201500001</td>\n",
       "      <td>1</td>\n",
       "      <td>3</td>\n",
       "      <td>0</td>\n",
       "      <td>L</td>\n",
       "      <td>452657</td>\n",
       "      <td>L</td>\n",
       "      <td>True</td>\n",
       "    </tr>\n",
       "  </tbody>\n",
       "</table>\n",
       "<p>5 rows × 51 columns</p>\n",
       "</div>"
      ],
      "text/plain": [
       "      px     pz  start_speed  end_speed  spin_rate  spin_dir  break_angle  \\\n",
       "0  0.416  2.963         92.9       84.1   2305.052   159.235        -25.0   \n",
       "1 -0.191  2.347         92.8       84.1   2689.935   151.402        -40.7   \n",
       "2 -0.518  3.284         94.1       85.2   2647.972   145.125        -43.7   \n",
       "3 -0.641  1.221         91.0       84.0   1289.590   169.751         -1.3   \n",
       "4 -1.821  2.083         75.4       69.6   1374.569   280.671         18.4   \n",
       "\n",
       "   break_length  break_y      ax  ...  batter_id      event       g_id  \\\n",
       "0           3.2     23.7   7.665  ...     572761  Groundout  201500001   \n",
       "1           3.4     23.7  12.043  ...     518792     Double  201500001   \n",
       "2           3.7     23.7  14.368  ...     407812     Single  201500001   \n",
       "3           5.0     23.8   2.104  ...     425509  Strikeout  201500001   \n",
       "4          12.0     23.8 -10.280  ...     571431  Strikeout  201500001   \n",
       "\n",
       "   inning  o  p_score  p_throws  pitcher_id  stand   top  \n",
       "0       1  1        0         L      452657      L  True  \n",
       "1       1  1        0         L      452657      L  True  \n",
       "2       1  1        0         L      452657      R  True  \n",
       "3       1  2        0         L      452657      R  True  \n",
       "4       1  3        0         L      452657      L  True  \n",
       "\n",
       "[5 rows x 51 columns]"
      ]
     },
     "execution_count": 26,
     "metadata": {},
     "output_type": "execute_result"
    }
   ],
   "source": [
    "df = pd.concat([pitches_df, atbat_df], join='inner', axis=1)\n",
    "df.head()"
   ]
  },
  {
   "cell_type": "code",
   "execution_count": 27,
   "metadata": {},
   "outputs": [],
   "source": [
    "df.dropna(inplace=True)"
   ]
  },
  {
   "cell_type": "code",
   "execution_count": 28,
   "metadata": {},
   "outputs": [
    {
     "data": {
      "text/plain": [
       "{dtype('bool'): Index(['top'], dtype='object'),\n",
       " dtype('int64'): Index(['event_num', 'ab_id', 'batter_id', 'g_id', 'inning', 'o', 'p_score',\n",
       "        'pitcher_id'],\n",
       "       dtype='object'),\n",
       " dtype('float64'): Index(['px', 'pz', 'start_speed', 'end_speed', 'spin_rate', 'spin_dir',\n",
       "        'break_angle', 'break_length', 'break_y', 'ax', 'ay', 'az', 'sz_bot',\n",
       "        'sz_top', 'type_confidence', 'vx0', 'vy0', 'vz0', 'x', 'x0', 'y', 'y0',\n",
       "        'z0', 'pfx_x', 'pfx_z', 'nasty', 'zone', 'b_score', 'ab_id', 'b_count',\n",
       "        's_count', 'outs', 'pitch_num', 'on_1b', 'on_2b', 'on_3b'],\n",
       "       dtype='object'),\n",
       " dtype('O'): Index(['code', 'type', 'pitch_type', 'event', 'p_throws', 'stand'], dtype='object')}"
      ]
     },
     "execution_count": 28,
     "metadata": {},
     "output_type": "execute_result"
    }
   ],
   "source": [
    "dtypes = df.columns.to_series().groupby(df.dtypes).groups\n",
    "dtypes"
   ]
  },
  {
   "cell_type": "code",
   "execution_count": 29,
   "metadata": {},
   "outputs": [],
   "source": [
    "# Drop this column because type simplifies this column\n",
    "df.drop(columns='code', inplace=True)"
   ]
  },
  {
   "cell_type": "code",
   "execution_count": 30,
   "metadata": {
    "scrolled": true
   },
   "outputs": [
    {
     "data": {
      "text/plain": [
       "S    332884\n",
       "B    264744\n",
       "X    135985\n",
       "Name: type, dtype: int64"
      ]
     },
     "execution_count": 30,
     "metadata": {},
     "output_type": "execute_result"
    }
   ],
   "source": [
    "df.type.value_counts()"
   ]
  },
  {
   "cell_type": "code",
   "execution_count": 31,
   "metadata": {},
   "outputs": [
    {
     "data": {
      "text/plain": [
       "FF    261220\n",
       "SL    106934\n",
       "FT     83905\n",
       "CH     77203\n",
       "SI     71946\n",
       "CU     55738\n",
       "FC     40493\n",
       "KC     16379\n",
       "FS     11746\n",
       "KN      3948\n",
       "IN      3279\n",
       "EP       319\n",
       "PO       247\n",
       "FO       215\n",
       "UN        23\n",
       "FA         9\n",
       "SC         7\n",
       "AB         2\n",
       "Name: pitch_type, dtype: int64"
      ]
     },
     "execution_count": 31,
     "metadata": {},
     "output_type": "execute_result"
    }
   ],
   "source": [
    "df.pitch_type.value_counts()"
   ]
  },
  {
   "cell_type": "code",
   "execution_count": 32,
   "metadata": {},
   "outputs": [],
   "source": [
    "df.loc[df.pitch_type.isin(['FF', 'FT', 'FC', 'FS', 'SI']), 'pitch_type'] = 'fastball'\n",
    "df.loc[df.pitch_type.isin(['CU', 'SL', 'SC', 'KC', ]), 'pitch_type'] = 'break'\n",
    "df.loc[df.pitch_type.isin(['CH', 'KN', 'EP']), 'pitch_type'] = 'changeup'\n",
    "df.loc[df.pitch_type.isin(['B', 'F', 'FO', 'UN', 'FA', 'IN', 'PO', 'AB']), 'pitch_type'] = 'other'"
   ]
  },
  {
   "cell_type": "code",
   "execution_count": 33,
   "metadata": {},
   "outputs": [
    {
     "data": {
      "text/plain": [
       "fastball    469310\n",
       "break       179058\n",
       "changeup     81470\n",
       "other         3775\n",
       "Name: pitch_type, dtype: int64"
      ]
     },
     "execution_count": 33,
     "metadata": {},
     "output_type": "execute_result"
    }
   ],
   "source": [
    "df.pitch_type.value_counts()"
   ]
  },
  {
   "cell_type": "code",
   "execution_count": 34,
   "metadata": {},
   "outputs": [
    {
     "data": {
      "text/plain": [
       "Strikeout               155627\n",
       "Groundout               133657\n",
       "Single                  107797\n",
       "Flyout                   80004\n",
       "Walk                     56379\n",
       "Lineout                  44538\n",
       "Pop Out                  34136\n",
       "Double                   32890\n",
       "Home Run                 21969\n",
       "Forceout                 14984\n",
       "Grounded Into DP         14605\n",
       "Hit By Pitch              6881\n",
       "Field Error               6332\n",
       "Sac Fly                   4735\n",
       "Sac Bunt                  3933\n",
       "Intent Walk               3746\n",
       "Triple                    3412\n",
       "Double Play               1790\n",
       "Runner Out                1728\n",
       "Bunt Groundout            1242\n",
       "Fielders Choice Out       1241\n",
       "Strikeout - DP             573\n",
       "Bunt Pop Out               563\n",
       "Fielders Choice            393\n",
       "Batter Interference        156\n",
       "Catcher Interference       152\n",
       "Sac Fly DP                  75\n",
       "Bunt Lineout                51\n",
       "Triple Play                 20\n",
       "Sacrifice Bunt DP            4\n",
       "Name: event, dtype: int64"
      ]
     },
     "execution_count": 34,
     "metadata": {},
     "output_type": "execute_result"
    }
   ],
   "source": [
    "df.event.value_counts()"
   ]
  },
  {
   "cell_type": "code",
   "execution_count": 35,
   "metadata": {},
   "outputs": [],
   "source": [
    "df.loc[df.event.isin(['Strikeout', 'Groundout', 'Flyout', 'Lineout', 'Pop Out', 'Forceout', 'Grounded Into DP'\n",
    "                     , 'Sac Fly', 'Sac Bunt', 'Double Play', 'Runner Out', 'Bunt Groundout', 'Fielders Choice Out',\n",
    "                     'Strikeout - DP', 'Bunt Pop Out', 'Fielders Choice', 'Batter Interference', 'Catcher Interference',\n",
    "                     'Sac Fly DP', 'Bunt Lineout', 'Triple Play', 'Sacrifice Bunt DP']), 'event'] = 'Out'\n",
    "df.loc[df.event.isin(['Single', 'Double', 'Home Run', 'Triple']), 'event'] = 'Hit'\n",
    "df.loc[df.event.isin(['Walk', 'Hit By Pitch', 'Intent Walk']), 'event'] = 'Walk'"
   ]
  },
  {
   "cell_type": "code",
   "execution_count": 36,
   "metadata": {},
   "outputs": [
    {
     "data": {
      "text/plain": [
       "Out            494207\n",
       "Hit            166068\n",
       "Walk            67006\n",
       "Field Error      6332\n",
       "Name: event, dtype: int64"
      ]
     },
     "execution_count": 36,
     "metadata": {},
     "output_type": "execute_result"
    }
   ],
   "source": [
    "df.event.value_counts()"
   ]
  },
  {
   "cell_type": "code",
   "execution_count": 37,
   "metadata": {},
   "outputs": [
    {
     "data": {
      "text/plain": [
       "R    537329\n",
       "L    196284\n",
       "Name: p_throws, dtype: int64"
      ]
     },
     "execution_count": 37,
     "metadata": {},
     "output_type": "execute_result"
    }
   ],
   "source": [
    "df.p_throws.value_counts()"
   ]
  },
  {
   "cell_type": "code",
   "execution_count": 38,
   "metadata": {},
   "outputs": [
    {
     "data": {
      "text/plain": [
       "R    429014\n",
       "L    304599\n",
       "Name: stand, dtype: int64"
      ]
     },
     "execution_count": 38,
     "metadata": {},
     "output_type": "execute_result"
    }
   ],
   "source": [
    "df.stand.value_counts()"
   ]
  },
  {
   "cell_type": "code",
   "execution_count": 39,
   "metadata": {},
   "outputs": [],
   "source": [
    "df = df.sample(n=50000).copy()"
   ]
  },
  {
   "cell_type": "code",
   "execution_count": 40,
   "metadata": {},
   "outputs": [],
   "source": [
    "dummy_df = pd.get_dummies(df, drop_first=True)"
   ]
  },
  {
   "cell_type": "code",
   "execution_count": 41,
   "metadata": {},
   "outputs": [
    {
     "name": "stdout",
     "output_type": "stream",
     "text": [
      "<class 'pandas.core.frame.DataFrame'>\n",
      "Int64Index: 50000 entries, 216747 to 316752\n",
      "Data columns (total 50 columns):\n",
      "px                 50000 non-null float64\n",
      "pz                 50000 non-null float64\n",
      "start_speed        50000 non-null float64\n",
      "end_speed          50000 non-null float64\n",
      "spin_rate          50000 non-null float64\n",
      "spin_dir           50000 non-null float64\n",
      "break_angle        50000 non-null float64\n",
      "break_length       50000 non-null float64\n",
      "break_y            50000 non-null float64\n",
      "ax                 50000 non-null float64\n",
      "ay                 50000 non-null float64\n",
      "az                 50000 non-null float64\n",
      "sz_bot             50000 non-null float64\n",
      "sz_top             50000 non-null float64\n",
      "type_confidence    50000 non-null float64\n",
      "vx0                50000 non-null float64\n",
      "vy0                50000 non-null float64\n",
      "vz0                50000 non-null float64\n",
      "x                  50000 non-null float64\n",
      "x0                 50000 non-null float64\n",
      "y                  50000 non-null float64\n",
      "y0                 50000 non-null float64\n",
      "z0                 50000 non-null float64\n",
      "pfx_x              50000 non-null float64\n",
      "pfx_z              50000 non-null float64\n",
      "nasty              50000 non-null float64\n",
      "zone               50000 non-null float64\n",
      "type               50000 non-null object\n",
      "pitch_type         50000 non-null object\n",
      "event_num          50000 non-null int64\n",
      "b_score            50000 non-null float64\n",
      "ab_id              50000 non-null float64\n",
      "b_count            50000 non-null float64\n",
      "s_count            50000 non-null float64\n",
      "outs               50000 non-null float64\n",
      "pitch_num          50000 non-null float64\n",
      "on_1b              50000 non-null float64\n",
      "on_2b              50000 non-null float64\n",
      "on_3b              50000 non-null float64\n",
      "ab_id              50000 non-null int64\n",
      "batter_id          50000 non-null int64\n",
      "event              50000 non-null object\n",
      "g_id               50000 non-null int64\n",
      "inning             50000 non-null int64\n",
      "o                  50000 non-null int64\n",
      "p_score            50000 non-null int64\n",
      "p_throws           50000 non-null object\n",
      "pitcher_id         50000 non-null int64\n",
      "stand              50000 non-null object\n",
      "top                50000 non-null bool\n",
      "dtypes: bool(1), float64(36), int64(8), object(5)\n",
      "memory usage: 19.1+ MB\n"
     ]
    }
   ],
   "source": [
    "df.info()"
   ]
  },
  {
   "cell_type": "code",
   "execution_count": 21,
   "metadata": {},
   "outputs": [
    {
     "data": {
      "text/plain": [
       "array([[ 2.84132268e-01,  1.45024181e+00,  6.19740442e-01, ...,\n",
       "        -3.14024450e-01,  6.06096591e-01, -1.18308615e+00],\n",
       "       [ 4.46034847e-01, -7.71058215e-01, -7.69863171e-01, ...,\n",
       "        -3.14024450e-01,  6.06096591e-01, -1.18308615e+00],\n",
       "       [-7.09015097e-01,  5.76339796e-01,  1.02155354e+00, ...,\n",
       "         3.18446541e+00,  6.06096591e-01,  8.45246984e-01],\n",
       "       ...,\n",
       "       [-1.24905256e+00,  1.24029300e-01,  8.03904777e-01, ...,\n",
       "        -3.14024450e-01,  6.06096591e-01, -1.18308615e+00],\n",
       "       [-6.49252400e-01,  3.08343179e-01,  2.78590411e-04, ...,\n",
       "        -3.14024450e-01,  6.06096591e-01, -1.18308615e+00],\n",
       "       [ 3.46068154e-01, -1.30196739e-01,  1.70208026e-02, ...,\n",
       "         3.18446541e+00,  6.06096591e-01,  8.45246984e-01]])"
      ]
     },
     "execution_count": 21,
     "metadata": {},
     "output_type": "execute_result"
    }
   ],
   "source": [
    "scaler = StandardScaler()\n",
    "scaled_df = scaler.fit_transform(df)\n",
    "scaled_df"
   ]
  },
  {
   "cell_type": "code",
   "execution_count": 22,
   "metadata": {},
   "outputs": [
    {
     "data": {
      "text/plain": [
       "array([[-2.88020441, -0.81451768],\n",
       "       [ 2.48309682, -1.08745259],\n",
       "       [-2.42319507, -0.616354  ],\n",
       "       ...,\n",
       "       [-2.04107708, -2.04552078],\n",
       "       [ 0.85820624, -0.50735462],\n",
       "       [ 1.37566363, -0.00925978]])"
      ]
     },
     "execution_count": 22,
     "metadata": {},
     "output_type": "execute_result"
    }
   ],
   "source": [
    "pca = PCA(n_components=2)\n",
    "pca_components = pca.fit_transform(scaled_df)\n",
    "pca_components"
   ]
  },
  {
   "cell_type": "code",
   "execution_count": 109,
   "metadata": {},
   "outputs": [
    {
     "data": {
      "image/png": "[encoded data removed]",
      "text/plain": [
       "<Figure size 720x360 with 1 Axes>"
      ]
     },
     "metadata": {},
     "output_type": "display_data"
    }
   ],
   "source": [
    "plt.figure(figsize=(10,5))\n",
    "plt.scatter(pca_components[:, 0], pca_components[:, 1])\n",
    "plt.xticks([])\n",
    "plt.yticks([])\n",
    "plt.axis('off')\n",
    "plt.show()"
   ]
  },
  {
   "cell_type": "code",
   "execution_count": 68,
   "metadata": {},
   "outputs": [
    {
     "data": {
      "image/png": "[encoded data removed]",
      "text/plain": [
       "<Figure size 432x288 with 1 Axes>"
      ]
     },
     "metadata": {
      "needs_background": "light"
     },
     "output_type": "display_data"
    }
   ],
   "source": [
    "kmeans = KMeans(n_clusters=3, random_state=42)\n",
    "kmeans.fit(scaled_df)\n",
    "y_pred = kmeans.predict(scaled_df)\n",
    "\n",
    "plt.scatter(pca_components[:,0], pca_components[:,1], c=y_pred)\n",
    "plt.show()"
   ]
  },
  {
   "cell_type": "code",
   "execution_count": 42,
   "metadata": {},
   "outputs": [
    {
     "data": {
      "text/plain": [
       "(array([4.0000e+00, 2.0000e+00, 1.6000e+01, 4.5000e+01, 3.3500e+02,\n",
       "        2.6430e+03, 9.0430e+03, 1.6947e+04, 1.9910e+04, 1.0550e+03]),\n",
       " array([37.5 , 43.25, 49.  , 54.75, 60.5 , 66.25, 72.  , 77.75, 83.5 ,\n",
       "        89.25, 95.  ]),\n",
       " <a list of 10 Patch objects>)"
      ]
     },
     "execution_count": 42,
     "metadata": {},
     "output_type": "execute_result"
    },
    {
     "data": {
      "image/png": "[encoded data removed]",
      "text/plain": [
       "<Figure size 432x288 with 1 Axes>"
      ]
     },
     "metadata": {
      "needs_background": "light"
     },
     "output_type": "display_data"
    }
   ],
   "source": [
    "plt.hist(df['end_speed'])"
   ]
  },
  {
   "cell_type": "code",
   "execution_count": 69,
   "metadata": {},
   "outputs": [
    {
     "data": {
      "text/plain": [
       "2    22744\n",
       "0    18000\n",
       "1     9256\n",
       "Name: cluster, dtype: int64"
      ]
     },
     "execution_count": 69,
     "metadata": {},
     "output_type": "execute_result"
    }
   ],
   "source": [
    "df['cluster'] = y_pred\n",
    "df.cluster.value_counts()"
   ]
  },
  {
   "cell_type": "code",
   "execution_count": 70,
   "metadata": {},
   "outputs": [],
   "source": [
    "df_cluster_0 = df.loc[df.cluster == 0]\n",
    "df_cluster_1 = df.loc[df.cluster == 1]\n",
    "df_cluster_2 = df.loc[df.cluster == 2]"
   ]
  },
  {
   "cell_type": "code",
   "execution_count": 57,
   "metadata": {},
   "outputs": [
    {
     "data": {
      "text/plain": [
       "fastball    6838\n",
       "break       2615\n",
       "changeup    1177\n",
       "other         55\n",
       "Name: pitch_type, dtype: int64"
      ]
     },
     "execution_count": 57,
     "metadata": {},
     "output_type": "execute_result"
    }
   ],
   "source": [
    "df_cluster_0.pitch_type.value_counts()"
   ]
  },
  {
   "cell_type": "code",
   "execution_count": 71,
   "metadata": {},
   "outputs": [
    {
     "data": {
      "text/plain": [
       "<BarContainer object of 4 artists>"
      ]
     },
     "execution_count": 71,
     "metadata": {},
     "output_type": "execute_result"
    },
    {
     "data": {
      "image/png": "[encoded data removed]",
      "text/plain": [
       "<Figure size 432x288 with 1 Axes>"
      ]
     },
     "metadata": {
      "needs_background": "light"
     },
     "output_type": "display_data"
    }
   ],
   "source": [
    "plt.bar(x = df_cluster_0['pitch_type'].value_counts().index, height= df_cluster_0['pitch_type'].value_counts().values)"
   ]
  },
  {
   "cell_type": "code",
   "execution_count": 72,
   "metadata": {},
   "outputs": [
    {
     "data": {
      "text/plain": [
       "<BarContainer object of 4 artists>"
      ]
     },
     "execution_count": 72,
     "metadata": {},
     "output_type": "execute_result"
    },
    {
     "data": {
      "image/png": "[encoded data removed]",
      "text/plain": [
       "<Figure size 432x288 with 1 Axes>"
      ]
     },
     "metadata": {
      "needs_background": "light"
     },
     "output_type": "display_data"
    }
   ],
   "source": [
    "plt.bar(x = df_cluster_1['pitch_type'].value_counts().index, height= df_cluster_1['pitch_type'].value_counts().values)"
   ]
  },
  {
   "cell_type": "code",
   "execution_count": 73,
   "metadata": {},
   "outputs": [
    {
     "data": {
      "text/plain": [
       "<BarContainer object of 4 artists>"
      ]
     },
     "execution_count": 73,
     "metadata": {},
     "output_type": "execute_result"
    },
    {
     "data": {
      "image/png": "[encoded data removed]",
      "text/plain": [
       "<Figure size 432x288 with 1 Axes>"
      ]
     },
     "metadata": {
      "needs_background": "light"
     },
     "output_type": "display_data"
    }
   ],
   "source": [
    "plt.bar(x = df_cluster_2['pitch_type'].value_counts().index, height= df_cluster_2['pitch_type'].value_counts().values)"
   ]
  },
  {
   "cell_type": "code",
   "execution_count": 74,
   "metadata": {},
   "outputs": [
    {
     "data": {
      "text/plain": [
       "(array([5.238e+03, 8.590e+03, 2.995e+03, 1.071e+03, 1.020e+02, 3.000e+00,\n",
       "        0.000e+00, 0.000e+00, 0.000e+00, 1.000e+00]),\n",
       " array([ 0.9 ,  4.53,  8.16, 11.79, 15.42, 19.05, 22.68, 26.31, 29.94,\n",
       "        33.57, 37.2 ]),\n",
       " <a list of 10 Patch objects>)"
      ]
     },
     "execution_count": 74,
     "metadata": {},
     "output_type": "execute_result"
    },
    {
     "data": {
      "image/png": "[encoded data removed]",
      "text/plain": [
       "<Figure size 432x288 with 1 Axes>"
      ]
     },
     "metadata": {
      "needs_background": "light"
     },
     "output_type": "display_data"
    }
   ],
   "source": [
    "plt.hist(df_cluster_0['break_length'])"
   ]
  },
  {
   "cell_type": "code",
   "execution_count": 75,
   "metadata": {},
   "outputs": [
    {
     "data": {
      "text/plain": [
       "(array([5.700e+02, 3.603e+03, 2.881e+03, 1.322e+03, 5.490e+02, 2.920e+02,\n",
       "        3.500e+01, 2.000e+00, 1.000e+00, 1.000e+00]),\n",
       " array([ 0.7 ,  3.19,  5.68,  8.17, 10.66, 13.15, 15.64, 18.13, 20.62,\n",
       "        23.11, 25.6 ]),\n",
       " <a list of 10 Patch objects>)"
      ]
     },
     "execution_count": 75,
     "metadata": {},
     "output_type": "execute_result"
    },
    {
     "data": {
      "image/png": "[encoded data removed]",
      "text/plain": [
       "<Figure size 432x288 with 1 Axes>"
      ]
     },
     "metadata": {
      "needs_background": "light"
     },
     "output_type": "display_data"
    }
   ],
   "source": [
    "plt.hist(df_cluster_1['break_length'])"
   ]
  },
  {
   "cell_type": "code",
   "execution_count": 76,
   "metadata": {},
   "outputs": [
    {
     "data": {
      "text/plain": [
       "(array([4.8990e+03, 1.0288e+04, 5.0140e+03, 1.8180e+03, 6.8600e+02,\n",
       "        3.5000e+01, 1.0000e+00, 2.0000e+00, 0.0000e+00, 1.0000e+00]),\n",
       " array([ 1.1 ,  4.16,  7.22, 10.28, 13.34, 16.4 , 19.46, 22.52, 25.58,\n",
       "        28.64, 31.7 ]),\n",
       " <a list of 10 Patch objects>)"
      ]
     },
     "execution_count": 76,
     "metadata": {},
     "output_type": "execute_result"
    },
    {
     "data": {
      "image/png": "[encoded data removed]",
      "text/plain": [
       "<Figure size 432x288 with 1 Axes>"
      ]
     },
     "metadata": {
      "needs_background": "light"
     },
     "output_type": "display_data"
    }
   ],
   "source": [
    "plt.hist(df_cluster_2['break_length'])"
   ]
  }
 ],
 "metadata": {
  "kernelspec": {
   "display_name": "Python 3",
   "language": "python",
   "name": "python3"
  },
  "language_info": {
   "codemirror_mode": {
    "name": "ipython",
    "version": 3
   },
   "file_extension": ".py",
   "mimetype": "text/x-python",
   "name": "python",
   "nbconvert_exporter": "python",
   "pygments_lexer": "ipython3",
   "version": "3.7.4"
  }
 },
 "nbformat": 4,
 "nbformat_minor": 2
}
